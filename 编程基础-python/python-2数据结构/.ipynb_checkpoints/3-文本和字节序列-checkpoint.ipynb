{
 "cells": [
  {
   "cell_type": "code",
   "execution_count": 10,
   "metadata": {},
   "outputs": [
    {
     "name": "stdout",
     "output_type": "stream",
     "text": [
      "b'cafe'\n",
      "cafe\n"
     ]
    }
   ],
   "source": [
    "# 编码和解码\n",
    "# str.encode()    bytes.decode()\n",
    "s = \"cafe\"\n",
    "b = s.encode(\"utf-8\")\n",
    "print(b)\n",
    "c = b.decode(\"utf-8\")\n",
    "print(c)\n"
   ]
  },
  {
   "cell_type": "markdown",
   "metadata": {},
   "source": [
    "### python 内置了两种基本的二进制序列类型\n",
    "- 不可变bytes类型和可变bytearray类型\n",
    "\n",
    "### 结构体和内存视图\n",
    "- struct和momryview\n",
    "- 结构体用于将字节转换成数据，或者反向将数据转换成字节\n",
    "- 内存视图不能创建字节，而是共享内存，利用缓冲中的数据，无需复制即可访问\n",
    "\n",
    "### python 中内置了100多种编解码器\n",
    "\n",
    "### 处理文件操作\n",
    "- 对输入来说，要尽量早的把字节序列解码成字符串\n",
    "- 对输出来说，要尽量晚的把字符串编码成字节类型\n",
    "- 在过程中，一定不能有编码和解码\n",
    "- 这种做法叫做unicode三明治。即上层输入解码，中层值处理文本，下层编码输出\n",
    "\n",
    "### ascii 和非ascii的排序方式是不一样的，python默认的当然是ascii的排序，所以如果是拉丁文里不非ascii的字符，需要用locale.strxfrm来排序\n",
    "\n",
    "### unicode数据库\n",
    "- unicode数据库记录的各个字符的信息，比如是否可以打印，是不是字母，是不是数字。\n",
    "- 字符串你的isidentifier、isprintable、isdecimal等方法就是靠这些信息做判断的\n",
    "- str.casefold也用到了unicode表中的信息"
   ]
  },
  {
   "cell_type": "code",
   "execution_count": null,
   "metadata": {},
   "outputs": [],
   "source": []
  }
 ],
 "metadata": {
  "kernelspec": {
   "display_name": "Python 3",
   "language": "python",
   "name": "python3"
  },
  "language_info": {
   "codemirror_mode": {
    "name": "ipython",
    "version": 3
   },
   "file_extension": ".py",
   "mimetype": "text/x-python",
   "name": "python",
   "nbconvert_exporter": "python",
   "pygments_lexer": "ipython3",
   "version": "3.6.5"
  }
 },
 "nbformat": 4,
 "nbformat_minor": 2
}
