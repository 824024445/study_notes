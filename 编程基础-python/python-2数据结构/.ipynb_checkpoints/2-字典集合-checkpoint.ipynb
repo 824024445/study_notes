{
 "cells": [
  {
   "cell_type": "code",
   "execution_count": 5,
   "metadata": {},
   "outputs": [
    {
     "name": "stdout",
     "output_type": "stream",
     "text": [
      "{1, 2}\n"
     ]
    }
   ],
   "source": [
    "# 集合\n",
    "{1} \n",
    "a = set([1,2])\n",
    "print(a)"
   ]
  },
  {
   "cell_type": "code",
   "execution_count": 9,
   "metadata": {},
   "outputs": [
    {
     "name": "stdout",
     "output_type": "stream",
     "text": [
      "{'henan': 'zhengzhou', 'hebei': 'shijiazhuang', 'hubei': 'wuhan'}\n"
     ]
    }
   ],
   "source": [
    "# 字典推导\n",
    "dics = [(\"henan\",\"zhengzhou\"), (\"hebei\",\"shijiazhuang\"), (\"hubei\",\"wuhan\")]\n",
    "dic = {key:value for key,value in dics}\n",
    "print(dic)"
   ]
  },
  {
   "cell_type": "code",
   "execution_count": 10,
   "metadata": {},
   "outputs": [
    {
     "name": "stdout",
     "output_type": "stream",
     "text": [
      "{0, 1, 2, 3, 4, 5, 6, 7, 8, 9}\n"
     ]
    }
   ],
   "source": [
    "# 集合推导\n",
    "sets = { x for x in range(10)}\n",
    "print(sets)"
   ]
  },
  {
   "cell_type": "markdown",
   "metadata": {},
   "source": [
    "## 字典和集合的背后是**散列表**\n",
    "- 散列表必须是稀疏的，所以字典所占用的空间很大，在内存上的开销很大。\n",
    "- 如果要存储巨量的数据，放在元祖或者具名元祖中是不错的"
   ]
  },
  {
   "cell_type": "code",
   "execution_count": null,
   "metadata": {},
   "outputs": [],
   "source": []
  }
 ],
 "metadata": {
  "kernelspec": {
   "display_name": "Python 3",
   "language": "python",
   "name": "python3"
  },
  "language_info": {
   "codemirror_mode": {
    "name": "ipython",
    "version": 3
   },
   "file_extension": ".py",
   "mimetype": "text/x-python",
   "name": "python",
   "nbconvert_exporter": "python",
   "pygments_lexer": "ipython3",
   "version": "3.6.5"
  }
 },
 "nbformat": 4,
 "nbformat_minor": 2
}
