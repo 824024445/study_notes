{
 "cells": [
  {
   "cell_type": "code",
   "execution_count": 18,
   "metadata": {},
   "outputs": [
    {
     "name": "stdout",
     "output_type": "stream",
     "text": [
      "列表推导: [0, 1, 2, 3, 4, 5, 6, 7, 8, 9]\n",
      "笛卡尔积: [('s', 'black'), ('s', 'red'), ('m', 'black'), ('m', 'red'), ('l', 'black'), ('l', 'red')]\n",
      "加条件: [5, 6, 7, 8, 9]\n"
     ]
    }
   ],
   "source": [
    "# 列表推导\n",
    "a = [x for x in range(10)]\n",
    "print(\"列表推导:\",a)\n",
    "\n",
    "# 笛卡尔积\n",
    "colors = [\"black\", \"red\"]\n",
    "sizes = [\"s\", \"m\", \"l\"]\n",
    "tshirts = [(size,color) for size in sizes for color in colors]\n",
    "print(\"笛卡尔积:\",tshirts)\n",
    "\n",
    "# 加条件。\n",
    "c = [x for x in range(10) if x>4]\n",
    "print(\"加条件:\",c)\n",
    "\n",
    "# 生成器表达式，就是把中括号改成小括号\n"
   ]
  },
  {
   "cell_type": "code",
   "execution_count": 11,
   "metadata": {},
   "outputs": [
    {
     "name": "stdout",
     "output_type": "stream",
     "text": [
      "c11(name='beijing', country='china', population='1800')\n",
      "beijing\n"
     ]
    }
   ],
   "source": [
    "# 具名元组\n",
    "from collections import namedtuple\n",
    "City = namedtuple(\"City\", \"name country population\")\n",
    "beijing = City(\"beijing\", \"china\", \"1800\")\n",
    "print(beijing)\n",
    "print(beijing.name)"
   ]
  },
  {
   "cell_type": "code",
   "execution_count": 38,
   "metadata": {},
   "outputs": [
    {
     "name": "stdout",
     "output_type": "stream",
     "text": [
      "d*3: [1, 2, 3, 1, 2, 3, 1, 2, 3]\n",
      "[[1, 2, 1, 2, 1, 2]]\n",
      "3行4列: [[3, 3, 3, 3], [3, 3, 3, 3], [3, 3, 3, 3]]\n",
      "列表推导创建的格子: [[3, 3, 3, 3], [3, 3, 'x', 3], [3, 3, 3, 3]]\n",
      "引用的都是同一个的: [[3, 3, 'x', 3], [3, 3, 'x', 3], [3, 3, 'x', 3]]\n"
     ]
    }
   ],
   "source": [
    "# 对序列使用+和*\n",
    "d = [1,2,3]\n",
    "print(\"d*3:\",d*3)\n",
    "e = [[1,2]*3]\n",
    "print(e)\n",
    "\n",
    "# 创建一个3*4的列表\n",
    "f = [[3]*4 for i in range(3)]\n",
    "print(\"3行4列:\",f)\n",
    "f[1][2] = \"x\"\n",
    "print(\"列表推导创建的格子:\", f)\n",
    "g = [[3]*4]*3\n",
    "g[1][2]= \"x\"\n",
    "print(\"引用的都是同一个的:\", g)"
   ]
  },
  {
   "cell_type": "code",
   "execution_count": 45,
   "metadata": {},
   "outputs": [
    {
     "name": "stdout",
     "output_type": "stream",
     "text": [
      "[[1, 2, 'x'], [1, 2, 'x'], [1, 2, 'x']]\n",
      "[[1, 2, 3], [1, 2, 'x'], [1, 2, 3]]\n"
     ]
    }
   ],
   "source": [
    "# 上面的原理同下\n",
    "row = [1,2,3]\n",
    "board = []\n",
    "for i in range(3):\n",
    "    board.append(row)\n",
    "board[1][2] = \"x\"\n",
    "print(board)\n",
    "\n",
    "board2 = []\n",
    "for i in range(3):\n",
    "    row2 = [1,2,3]\n",
    "    board2.append(row2)\n",
    "board2[1][2] = \"x\"\n",
    "print(board2)"
   ]
  },
  {
   "cell_type": "code",
   "execution_count": 58,
   "metadata": {},
   "outputs": [
    {
     "name": "stdout",
     "output_type": "stream",
     "text": [
      "乘之前id 2437135003528\n",
      "乘之后id 2437135003528 [1, 2, 3, 1, 2, 3]\n",
      "乘之前id 2437134625456\n",
      "乘之后id 2437136477448 (1, 2, 3, 1, 2, 3)\n"
     ]
    }
   ],
   "source": [
    "# +=之类的方法，称作就地加法，调用的是__iadd__函数，如果一个类没有定义这个方法的化，python会退而调用__add__\n",
    "# 如果有__iadd__方法的话，那么其位置就不会变动。只有在可变序列上才有就地加法之类的方法，也就是说可变序列不改动位置，不可变序列改动位置\n",
    "# 只有str是例外的\n",
    "# 下面演示一下在可变序列和不可变序列上的应用\n",
    "vari = [1,2,3]\n",
    "print(\"乘之前id\", id(vari))\n",
    "vari *= 2\n",
    "print(\"乘之后id\",id(vari),vari)\n",
    "\n",
    "immu = (1,2,3)\n",
    "print(\"乘之前id\", id(immu))\n",
    "immu *= 2\n",
    "print(\"乘之后id\", id(immu), immu)"
   ]
  },
  {
   "cell_type": "code",
   "execution_count": 69,
   "metadata": {},
   "outputs": [
    {
     "name": "stdout",
     "output_type": "stream",
     "text": [
      "[1, 3, 4, 5]\n"
     ]
    }
   ],
   "source": [
    "x = [1,3]\n",
    "y = [4,5]\n",
    "x+=y\n",
    "print(x)\n"
   ]
  },
  {
   "cell_type": "code",
   "execution_count": 81,
   "metadata": {},
   "outputs": [
    {
     "name": "stdout",
     "output_type": "stream",
     "text": [
      "None\n",
      "[1, 2, 4, 5, 8, 9] list.sort就地改动\n",
      "------------------\n",
      "[1, 2, 4, 5, 8, 9]\n",
      "[1, 9, 5, 8, 4, 2] sorted创建新值\n"
     ]
    }
   ],
   "source": [
    "# list.sort 和 sorted\n",
    "\n",
    "sort1 = [1,9,5,8,4,2]\n",
    "x = sort1.sort()\n",
    "print(x)\n",
    "print(sort1, \"list.sort就地改动\")\n",
    "print(\"------------------\")\n",
    "sort2 = [1,9,5,8,4,2] \n",
    "y = sorted(sort2)\n",
    "print(y)\n",
    "print(sort2, \"sorted创建新值\")"
   ]
  },
  {
   "cell_type": "code",
   "execution_count": 92,
   "metadata": {},
   "outputs": [
    {
     "name": "stdout",
     "output_type": "stream",
     "text": [
      "array('b', [0, 1, 2, 3])\n"
     ]
    }
   ],
   "source": [
    "# 列表不是首选项时\n",
    "# 1.array.array(数组) 比list更高效。如果需要一个只含数字的列表\n",
    "import array\n",
    "x = array.array(\"b\", [x for x in range(4)])\n",
    "print(x)\n",
    "# 用 array.fromfile 从一个二进制文件里读 出1000万个双精度浮点数只需要0.1秒，这比从文本文件里读取的速度要快60倍，\n",
    "# 因为后者会使用内置的float方法把每一行文字换成浮点数。\n"
   ]
  },
  {
   "cell_type": "code",
   "execution_count": 104,
   "metadata": {},
   "outputs": [
    {
     "name": "stdout",
     "output_type": "stream",
     "text": [
      "deque([0, 1, 2, 3, 4, 5, 6, 7, 8, 9], maxlen=10)\n",
      "deque([7, 8, 9, 0, 1, 2, 3, 4, 5, 6], maxlen=10)\n",
      "append: deque([8, 9, 0, 1, 2, 3, 4, 5, 6, 'append'], maxlen=10)\n",
      "appendleft: deque(['appendleft', 8, 9, 0, 1, 2, 3, 4, 5, 6], maxlen=10)\n",
      "extend: deque([8, 9, 0, 1, 2, 3, 4, 5, 6, 'extend'], maxlen=10)\n"
     ]
    }
   ],
   "source": [
    "# 双向队列 collections.deque\n",
    "# 利用append和pop可以吧列表当做栈和队列来用\n",
    "# 其他队列 queue ，multiprocessing，asyncio,heapq\n",
    "from collections import deque \n",
    "dq = deque(range(10), maxlen=10)\n",
    "print(dq)\n",
    "\n",
    "# 旋转\n",
    "dq.rotate(3)\n",
    "print(dq)\n",
    "# append\n",
    "dq.append(\"append\")\n",
    "print(\"append:\", dq)\n",
    "# appendleft\n",
    "dq.appendleft(\"appendleft\")\n",
    "print(\"appendleft:\", dq)\n",
    "# extend   参数为可迭代对象\n",
    "dq.extend([\"extend\"])\n",
    "print(\"extend:\", dq)"
   ]
  },
  {
   "cell_type": "code",
   "execution_count": null,
   "metadata": {},
   "outputs": [],
   "source": []
  }
 ],
 "metadata": {
  "kernelspec": {
   "display_name": "Python 3",
   "language": "python",
   "name": "python3"
  },
  "language_info": {
   "codemirror_mode": {
    "name": "ipython",
    "version": 3
   },
   "file_extension": ".py",
   "mimetype": "text/x-python",
   "name": "python",
   "nbconvert_exporter": "python",
   "pygments_lexer": "ipython3",
   "version": "3.6.5"
  }
 },
 "nbformat": 4,
 "nbformat_minor": 2
}
