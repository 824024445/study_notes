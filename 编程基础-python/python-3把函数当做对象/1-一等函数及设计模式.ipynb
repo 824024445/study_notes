{
 "cells": [
  {
   "cell_type": "markdown",
   "metadata": {},
   "source": [
    "### 一等对象的定义\n",
    "- 在运行时创建\n",
    "- 能赋值给变量\n",
    "- 能作为参数传递给函数\n",
    "- 能作为函数的返回结果"
   ]
  },
  {
   "cell_type": "code",
   "execution_count": 56,
   "metadata": {},
   "outputs": [
    {
     "name": "stdout",
     "output_type": "stream",
     "text": [
      "<map object at 0x000002BB06BB30B8> [0, 1, 4, 9, 16]\n"
     ]
    }
   ],
   "source": [
    "# 插一个map函数。map(function, iterable, ...)\n",
    "def examp(arg):\n",
    "    return arg*arg\n",
    "x = map(examp, range(5))\n",
    "print(x, list(x))"
   ]
  },
  {
   "cell_type": "markdown",
   "metadata": {},
   "source": [
    "### 高阶函数\n",
    "- 接收函数作为参数，或者把函数作为结果返回的函数是高阶函数。\n",
    "\n",
    "### 函数式编程的特点之一就是使用高阶函数"
   ]
  },
  {
   "cell_type": "code",
   "execution_count": 57,
   "metadata": {},
   "outputs": [
    {
     "name": "stdout",
     "output_type": "stream",
     "text": [
      "['adf', 'dafdsf', 'rdfadsf', 'dsfasdffa']\n",
      "['dsfasdffa', 'adf', 'rdfadsf', 'dafdsf']\n"
     ]
    }
   ],
   "source": [
    "# 如果想按照单词的长度排序，只需要将len函数作为参数传递给sorted函数\n",
    "words = [\"adf\", \"dafdsf\", \"dsfasdffa\", \"rdfadsf\"]\n",
    "c = sorted(words, key=len)\n",
    "print(c)\n",
    "\n",
    "# 只要是单参数的函数，都可以传递给key\n",
    "def reverse(arg):\n",
    "    return arg[::-1]\n",
    "d = sorted(words, key=reverse)\n",
    "print(d)"
   ]
  },
  {
   "cell_type": "markdown",
   "metadata": {},
   "source": [
    "- 函数式语言通常会提供map，filter和reduce三个高阶函数。在python中，列表推导和生成器表达式具有map和filter两个函数的功能，且更易阅读。\n",
    "- all(iterable) 全为真返回真\n",
    "- any(iterable) 只要有真就返回真"
   ]
  },
  {
   "cell_type": "code",
   "execution_count": 58,
   "metadata": {},
   "outputs": [
    {
     "name": "stdout",
     "output_type": "stream",
     "text": [
      "False True\n"
     ]
    }
   ],
   "source": [
    "a = all([0,1,1,1])\n",
    "b = any([0,1,1])\n",
    "print(a,b)"
   ]
  },
  {
   "cell_type": "markdown",
   "metadata": {},
   "source": [
    "### 匿名函数 lambda\n",
    "- 在参数列表中最适合用匿名函数\n",
    "- 除此之外，很少用匿名函数"
   ]
  },
  {
   "cell_type": "markdown",
   "metadata": {},
   "source": [
    "### 可调用对象\n",
    "- 定义就是能加()运行\n",
    "- 判断能否可调用，用callable函数"
   ]
  },
  {
   "cell_type": "code",
   "execution_count": 14,
   "metadata": {},
   "outputs": [
    {
     "data": {
      "text/plain": [
       "False"
      ]
     },
     "execution_count": 14,
     "metadata": {},
     "output_type": "execute_result"
    }
   ],
   "source": [
    "a = 12\n",
    "callable(a)"
   ]
  },
  {
   "cell_type": "code",
   "execution_count": 59,
   "metadata": {},
   "outputs": [
    {
     "name": "stdout",
     "output_type": "stream",
     "text": [
      "1\n",
      "2\n"
     ]
    }
   ],
   "source": [
    "# 用户定义把类的实例变成可调用对象\n",
    "# 其实任何python对象都可以表现的像函数，只需要实现__call__方法\n",
    "print.__call__(1)\n",
    "\n",
    "import random \n",
    "class bingocage:\n",
    "    def __init__(self, items):\n",
    "        self._items = list(items)\n",
    "        random.shuffle(self._items)\n",
    "    def pick(self):\n",
    "        return self._items[0]\n",
    "    def __call__(self):\n",
    "        return self.pick()\n",
    "ccc = bingocage([1,2,3])\n",
    "x = ccc()\n",
    "print(x)\n"
   ]
  },
  {
   "cell_type": "markdown",
   "metadata": {},
   "source": [
    "### python也支持函数式编程，虽然创始人的目标不在于此。\n",
    "### 主要得益于operator 和functools等包的支持"
   ]
  },
  {
   "cell_type": "code",
   "execution_count": 8,
   "metadata": {},
   "outputs": [
    {
     "name": "stdout",
     "output_type": "stream",
     "text": [
      "[2, 3, 4, 5]\n",
      "10\n"
     ]
    }
   ],
   "source": [
    "# map和reduce\n",
    "x = map(lambda x:x+1,[1,2,3,4])\n",
    "print(list(x))\n",
    "\n",
    "from functools import reduce \n",
    "y = reduce(lambda x,y:x+y,[1,2,3,4])\n",
    "print(y)"
   ]
  },
  {
   "cell_type": "code",
   "execution_count": 60,
   "metadata": {},
   "outputs": [
    {
     "name": "stdout",
     "output_type": "stream",
     "text": [
      "str\n",
      "str\n",
      "repr\n"
     ]
    },
    {
     "data": {
      "text/plain": [
       "repr"
      ]
     },
     "execution_count": 60,
     "metadata": {},
     "output_type": "execute_result"
    }
   ],
   "source": [
    "# __str__ 和__repr__\n",
    "class D:\n",
    "    def __str__(self):\n",
    "        return \"str\"\n",
    "    def __repr__(self):\n",
    "        return \"repr\"\n",
    "item = D()\n",
    "print(item)\n",
    "\n",
    "x = \"%s\" % item\n",
    "print(x)\n",
    "y = \"%r\" % item\n",
    "print(y)\n",
    "item"
   ]
  },
  {
   "cell_type": "markdown",
   "metadata": {},
   "source": [
    "---\n",
    "## 下面主要讲一下个别编程模式\n",
    "#### 《 设 计 模 式： 可 复 用 面 向 对 象 软 件 的 基 础》这本书讲了23种设计模式，16个实现方法\n",
    "#### 下面从策略模式开始，使用<cite title='在python中，函数是一等对象。编程语言学家把“一等对象”定义为满足下述条件的程序实体：①在运行时创建。②能赋值给变量或数据结构中的元素。③能作为参数传给函数。④能作为函数的返回结果'>一等函数</cite>简化了这种实现方式<br>这意味着，很多种情况下，在python中使用函数或者可调用对象实现功能更自然，不用完全模仿书中所讲的“策略”，“命令”等模式。"
   ]
  },
  {
   "cell_type": "code",
   "execution_count": 64,
   "metadata": {},
   "outputs": [
    {
     "name": "stdout",
     "output_type": "stream",
     "text": [
      "< Order total: 42.00 due: 42.00 >\n",
      "< Order total: 42.00 due: 39.90 >\n"
     ]
    }
   ],
   "source": [
    "# 策略模式\n",
    "# 定义一系列算法，把他们封装起来，可替换，让客户自己选择，可以替换选择的那个方法或者类就是策略。应用策略的那个类就是上下文。\n",
    "from abc import ABC, abstractmethod \n",
    "from collections import namedtuple \n",
    "Customer = namedtuple('Customer', 'name fidelity') \n",
    "\n",
    "\n",
    "class LineItem: \n",
    "    def __init__(self, product, quantity, price): \n",
    "        self.product = product \n",
    "        self.quantity = quantity \n",
    "        self.price = price \n",
    "        \n",
    "    def total(self): \n",
    "        return self.price * self.quantity \n",
    "    \n",
    "    \n",
    "class Order: # 上 下 文 \n",
    "    \n",
    "    def __init__(self, customer, cart, promotion = None): \n",
    "        self.customer = customer \n",
    "        self.cart = list(cart) \n",
    "        self.promotion = promotion \n",
    "        \n",
    "    def total(self):\n",
    "        # 这里没有看明白，为什么要判断有没有__total属性\n",
    "        if not hasattr(self, '__total'): \n",
    "            self.__total = sum(item.total() for item in self.cart) \n",
    "        return self.__total \n",
    "    \n",
    "    def due(self): \n",
    "        if self.promotion is None: \n",
    "            discount = 0 \n",
    "        else: \n",
    "            discount = self.promotion.discount(self) \n",
    "        return self.total() - discount \n",
    "    \n",
    "    def __str__(self): \n",
    "        fmt = '< Order total: {:.2f} due: {:.2f} >' \n",
    "        return fmt.format(self.total(), self.due()) \n",
    "    \n",
    "    \n",
    "class Promotion(ABC) : # 策 略： 抽 象 基 类 \n",
    "    @abstractmethod \n",
    "    def discount(self, order): \n",
    "        \"\"\" 返 回 折 扣 金 额（ 正 值）\"\"\" \n",
    "\n",
    "        \n",
    "class FidelityPromo(Promotion): # 第 一 个 具 体 策 略\n",
    "    \"\"\" 为 积 分 为 1000 或 以 上 的 顾 客 提 供 5% 折 扣\"\"\" \n",
    "    def discount(self, order): \n",
    "        return order.total() * .05 if order.customer.fidelity >= 1000 else 0 \n",
    "    \n",
    "    \n",
    "class BulkItemPromo( Promotion): \n",
    "    # 第 二 个 具 体 策 略 \"\"\" 单 个 商 品 为 20 个 或 以 上 时 提 供 10% 折 扣\"\"\" \n",
    "    def discount(self, order): \n",
    "        discount = 0 \n",
    "        for item in order.cart: \n",
    "            if item.quantity >= 20: \n",
    "                discount += item.total() * .1 \n",
    "        return discount \n",
    "\n",
    "    \n",
    "class LargeOrderPromo( Promotion): \n",
    "    # 第 三 个 具 体 策 略 \"\"\" 订 单 中 的 不 同 商 品 达 到 10 个 或 以 上 时 提 供 7% 折 扣\"\"\" \n",
    "    def discount(self, order): \n",
    "        distinct_items = {item.product for item in order.cart} \n",
    "        if len(distinct_items) >= 10: \n",
    "            return order.total() * .07 \n",
    "        return 0\n",
    "\n",
    " \n",
    "joe = Customer(' John Doe', 0)\n",
    "ann = Customer(' Ann Smith', 1100)\n",
    "cart = [LineItem(' banana', 4, .5), \n",
    "        LineItem(' apple', 10, 1.5),\n",
    "        LineItem(' watermellon', 5, 5.0)]\n",
    "x = Order(joe, cart, FidelityPromo())\n",
    "print(x)\n",
    "y = Order(ann, cart, FidelityPromo())\n",
    "print(y)\n",
    "\n",
    "\n",
    "\n",
    "\n"
   ]
  },
  {
   "cell_type": "code",
   "execution_count": 62,
   "metadata": {},
   "outputs": [
    {
     "name": "stdout",
     "output_type": "stream",
     "text": [
      "< Order total: 42.00 due: 42.00 >\n",
      "< Order total: 42.00 due: 39.90 >\n"
     ]
    }
   ],
   "source": [
    "# 同上，使用函数实现\n",
    "from abc import ABC, abstractmethod \n",
    "from collections import namedtuple \n",
    "Customer = namedtuple('Customer', 'name fidelity') \n",
    "\n",
    "\n",
    "class LineItem: \n",
    "    def __init__(self, product, quantity, price): \n",
    "        self.product = product \n",
    "        self.quantity = quantity \n",
    "        self.price = price \n",
    "        \n",
    "    def total(self): \n",
    "        return self.price * self.quantity \n",
    "    \n",
    "    \n",
    "class Order: # 上 下 文 \n",
    "    def __init__(self, customer, cart, promotion = None): \n",
    "        self.customer = customer \n",
    "        self.cart = list(cart) \n",
    "        self.promotion = promotion \n",
    "        \n",
    "    def total(self):\n",
    "        # 这里没有看明白，为什么要判断有没有__total属性\n",
    "        if not hasattr(self, '__total'): \n",
    "            self.__total = sum(item.total() for item in self.cart) \n",
    "        return self.__total \n",
    "    \n",
    "    def due(self): \n",
    "        if self.promotion is None: \n",
    "            discount = 0 \n",
    "        else: \n",
    "            discount = self.promotion(self) \n",
    "        return self.total() - discount \n",
    "    \n",
    "    def __str__(self): \n",
    "        fmt = '< Order total: {:.2f} due: {:.2f} >' \n",
    "        return fmt.format(self.total(), self.due()) \n",
    "    \n",
    "        \n",
    "def fidelity_promo(order): # 第 一 个 具 体 策 略\n",
    "    \"\"\" 为 积 分 为 1000 或 以 上 的 顾 客 提 供 5% 折 扣\"\"\" \n",
    "    return order.total() * .05 if order.customer.fidelity >= 1000 else 0 \n",
    "    \n",
    "    \n",
    "def bulk_item_promo(order): \n",
    "    # 第 二 个 具 体 策 略 \"\"\" 单 个 商 品 为 20 个 或 以 上 时 提 供 10% 折 扣\"\"\" \n",
    "    discount = 0 \n",
    "    for item in order.cart: \n",
    "        if item.quantity >= 20: \n",
    "            discount += item.total() * .1 \n",
    "    return discount \n",
    "\n",
    "    \n",
    "def large_order_promo(order): \n",
    "    # 第 三 个 具 体 策 略 \"\"\" 订 单 中 的 不 同 商 品 达 到 10 个 或 以 上 时 提 供 7% 折 扣\"\"\" \n",
    "    distinct_items = {item.product for item in order.cart} \n",
    "    if len(distinct_items) >= 10: \n",
    "        return order.total() * .07 \n",
    "    return 0\n",
    "\n",
    " \n",
    "joe = Customer('John Doe', 0)\n",
    "ann = Customer('Ann Smith', 1100)\n",
    "cart = [LineItem('banana', 4, .5), \n",
    "        LineItem('apple', 10, 1.5),\n",
    "        LineItem('watermellon', 5, 5.0)]\n",
    "x = Order(joe, cart, fidelity_promo)\n",
    "print(x)\n",
    "y = Order(ann, cart, fidelity_promo)\n",
    "print(y)\n",
    "\n",
    "# 这两个方法相比较。有这样一个结论,如果策略只是处理上下文,只有一个方法的话,那么就不要写成一个类,太浪费.写成一个普通的方法就好,轻便,而且也能共享.\n",
    "\n",
    "\n"
   ]
  },
  {
   "cell_type": "code",
   "execution_count": 65,
   "metadata": {},
   "outputs": [],
   "source": [
    "# 再一次改进上面的脚本.---增加自动选择最大优惠的方法\n",
    "promos = [fidelity_promo, bulk_item_promo, large_order_promo]\n",
    "\n",
    "\n",
    "def best_promo(order):\n",
    "    '''选择可用的最佳折扣'''\n",
    "    return max(promo(order) for promo in promos)\n",
    "\n",
    "# 这样可以用，但是如果添加了新的策略，必须要在新增函数的同时修改promos列表，容易出错，所以必须要改进,下面就来改进这个问题\n",
    "# 利用globals,它的作用是返回一个字典，表示当前的全局符号表。只是在原始定义的脚本里，引用的不包含。\n",
    "promos = [globals()[name] for name in globals() \n",
    "         if name.endswith('_promo')\n",
    "         and name != 'best_promo']\n",
    "\n",
    "# 另外一种收集所有策略的方法是把所有策略保存到一个单独的模块，这样就不用顾忌其他的函数比如这个脚本里的best_promo的干扰了"
   ]
  },
  {
   "cell_type": "markdown",
   "metadata": {},
   "source": [
    "### 命令模式\n",
    "可以通过吧函数作为参数而简化\n",
    "没有深入的讲，\n",
    "如果想要精通各种模式，那么请看下面这本书<br>\n",
    "**《设 计 模 式： 可 复 用 面 向 对 象 软 件 的 基 础》**\n"
   ]
  },
  {
   "cell_type": "code",
   "execution_count": null,
   "metadata": {},
   "outputs": [],
   "source": []
  }
 ],
 "metadata": {
  "kernelspec": {
   "display_name": "Python 3",
   "language": "python",
   "name": "python3"
  },
  "language_info": {
   "codemirror_mode": {
    "name": "ipython",
    "version": 3
   },
   "file_extension": ".py",
   "mimetype": "text/x-python",
   "name": "python",
   "nbconvert_exporter": "python",
   "pygments_lexer": "ipython3",
   "version": "3.6.5"
  }
 },
 "nbformat": 4,
 "nbformat_minor": 2
}
