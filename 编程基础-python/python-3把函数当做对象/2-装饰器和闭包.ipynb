{
 "cells": [
  {
   "cell_type": "markdown",
   "metadata": {},
   "source": [
    "# 装饰器原理"
   ]
  },
  {
   "cell_type": "markdown",
   "metadata": {},
   "source": [
    "## 定义\n",
    "装饰器是可调用的对象，其参数是另外一个函数（被装饰的函数），即被装饰的函数是装饰器函数的参数"
   ]
  },
  {
   "cell_type": "code",
   "execution_count": 1,
   "metadata": {},
   "outputs": [],
   "source": [
    "# 比如有一个名为decorate的函数，那么\n",
    "@decorate\n",
    "def target():\n",
    "    print(\"running target()\")\n",
    "    \n",
    "# 和\n",
    "\n",
    "def target():\n",
    "    print(\"running target()\")\n",
    "target = decorate(target)\n",
    "# 两种写法是一样的"
   ]
  },
  {
   "cell_type": "markdown",
   "metadata": {},
   "source": [
    "## 装饰器的特性\n",
    "- 能把被装饰的函数替换成其他函数\n",
    "- 能在加载模块的时候立即执行"
   ]
  },
  {
   "cell_type": "code",
   "execution_count": 10,
   "metadata": {},
   "outputs": [
    {
     "name": "stdout",
     "output_type": "stream",
     "text": [
      "running inner()\n"
     ]
    },
    {
     "data": {
      "text/plain": [
       "<function __main__.deco.<locals>.inner()>"
      ]
     },
     "execution_count": 10,
     "metadata": {},
     "output_type": "execute_result"
    }
   ],
   "source": [
    "# 把装饰的函数替换成其他函数\n",
    "def deco(func):\n",
    "    def inner():\n",
    "        print(\"running inner()\")\n",
    "    return inner\n",
    "\n",
    "\n",
    "@deco\n",
    "def target():\n",
    "    print(\"running target\")\n",
    "\n",
    "    \n",
    "target()\n",
    "target\n",
    "# 可见，通过装饰器，本质上吧target替换成了inner函数"
   ]
  },
  {
   "cell_type": "markdown",
   "metadata": {},
   "source": [
    "函数装饰器在导入时立即执行，而被装饰的函数只在明确调用时执行。\n",
    "详细的去看《流畅的python》7.2章吧<br><br>另外，说一下装饰器的常见用法\n",
    "- 实际情况下，装饰器通常在一个模块中定义，然后应用到其它模块的函数中\n",
    "- 大多数装饰器都会在内部定义一个函数，然后将其返回。关于这一点有个很重要的知识点：**使用内部函数的代码几乎要靠闭包才能够正常运作，具体如何看下面**"
   ]
  },
  {
   "cell_type": "markdown",
   "metadata": {},
   "source": [
    "## 装饰器改进策略模式\n",
    "以上节电商促销为例"
   ]
  },
  {
   "cell_type": "code",
   "execution_count": null,
   "metadata": {},
   "outputs": [],
   "source": [
    "# 装饰器改进最优折扣的实现best_promo，改进忘记在列表中输入新策略的问题\n",
    "promos = []\n",
    "\n",
    "\n",
    "def promotion(promo_func):\n",
    "    promos.append(promo_func)\n",
    "    return promo_func\n",
    "\n",
    "\n",
    "@promotion\n",
    "def fidelity(order): \n",
    "    \"\"\" 为 积 分 为 1000 或 以 上 的 顾 客 提 供 5% 折 扣\"\"\" \n",
    "    return order.total() * .05 if order.customer.fidelity >= 1000 else 0\n",
    "\n",
    "\n",
    "def best_promo(order)：\n",
    "    \"\"\" 选 择 可 用 的 最 佳 折 扣 \"\"\" \n",
    "    return max(promo( order) for promo in promos)\n"
   ]
  },
  {
   "cell_type": "markdown",
   "metadata": {},
   "source": [
    "# 闭包"
   ]
  },
  {
   "cell_type": "markdown",
   "metadata": {},
   "source": [
    "## 变量作用域\n",
    "下面有个有意思的例子。pyhton不要求声明变量，但是假定在函数定义体中，赋值的变量是局部变量。"
   ]
  },
  {
   "cell_type": "code",
   "execution_count": 17,
   "metadata": {},
   "outputs": [
    {
     "name": "stdout",
     "output_type": "stream",
     "text": [
      "2\n"
     ]
    },
    {
     "ename": "UnboundLocalError",
     "evalue": "local variable 'b' referenced before assignment",
     "output_type": "error",
     "traceback": [
      "\u001b[1;31m---------------------------------------------------------------------------\u001b[0m",
      "\u001b[1;31mUnboundLocalError\u001b[0m                         Traceback (most recent call last)",
      "\u001b[1;32m<ipython-input-17-f52ccab4f4e6>\u001b[0m in \u001b[0;36m<module>\u001b[1;34m()\u001b[0m\n\u001b[0;32m      4\u001b[0m     \u001b[0mprint\u001b[0m\u001b[1;33m(\u001b[0m\u001b[0mb\u001b[0m\u001b[1;33m)\u001b[0m\u001b[1;33m\u001b[0m\u001b[0m\n\u001b[0;32m      5\u001b[0m     \u001b[0mb\u001b[0m \u001b[1;33m=\u001b[0m \u001b[1;36m6\u001b[0m\u001b[1;33m\u001b[0m\u001b[0m\n\u001b[1;32m----> 6\u001b[1;33m \u001b[0mf1\u001b[0m\u001b[1;33m(\u001b[0m\u001b[1;36m2\u001b[0m\u001b[1;33m)\u001b[0m\u001b[1;33m\u001b[0m\u001b[0m\n\u001b[0m",
      "\u001b[1;32m<ipython-input-17-f52ccab4f4e6>\u001b[0m in \u001b[0;36mf1\u001b[1;34m(a)\u001b[0m\n\u001b[0;32m      2\u001b[0m \u001b[1;32mdef\u001b[0m \u001b[0mf1\u001b[0m\u001b[1;33m(\u001b[0m\u001b[0ma\u001b[0m\u001b[1;33m)\u001b[0m\u001b[1;33m:\u001b[0m\u001b[1;33m\u001b[0m\u001b[0m\n\u001b[0;32m      3\u001b[0m     \u001b[0mprint\u001b[0m\u001b[1;33m(\u001b[0m\u001b[0ma\u001b[0m\u001b[1;33m)\u001b[0m\u001b[1;33m\u001b[0m\u001b[0m\n\u001b[1;32m----> 4\u001b[1;33m     \u001b[0mprint\u001b[0m\u001b[1;33m(\u001b[0m\u001b[0mb\u001b[0m\u001b[1;33m)\u001b[0m\u001b[1;33m\u001b[0m\u001b[0m\n\u001b[0m\u001b[0;32m      5\u001b[0m     \u001b[0mb\u001b[0m \u001b[1;33m=\u001b[0m \u001b[1;36m6\u001b[0m\u001b[1;33m\u001b[0m\u001b[0m\n\u001b[0;32m      6\u001b[0m \u001b[0mf1\u001b[0m\u001b[1;33m(\u001b[0m\u001b[1;36m2\u001b[0m\u001b[1;33m)\u001b[0m\u001b[1;33m\u001b[0m\u001b[0m\n",
      "\u001b[1;31mUnboundLocalError\u001b[0m: local variable 'b' referenced before assignment"
     ]
    }
   ],
   "source": [
    "b = \"quanju\"\n",
    "def f1(a):\n",
    "    print(a)\n",
    "    print(b)\n",
    "    b = 6\n",
    "f1(2)\n"
   ]
  },
  {
   "cell_type": "markdown",
   "metadata": {},
   "source": [
    "## 闭包\n",
    "闭包和匿名函数有点像，都是在函数内部定义函数  \n",
    "闭包指延伸了作用于的函数  \n",
    "函数是不是匿名没有关系，关键是它能够访问定义体之外定义的非全局变量。"
   ]
  },
  {
   "cell_type": "code",
   "execution_count": 24,
   "metadata": {},
   "outputs": [
    {
     "name": "stdout",
     "output_type": "stream",
     "text": [
      "10.0 10.5\n"
     ]
    }
   ],
   "source": [
    "# 求平均的实现，在不断新增数据的情况下\n",
    "# 方法1，使用类\n",
    "\n",
    "\n",
    "class Average():\n",
    "    \n",
    "    def __init__(self):\n",
    "        self.series = []\n",
    "        \n",
    "    def __call__(self, num):\n",
    "        self.series.append(num)\n",
    "        total = sum(self.series)\n",
    "        return total/len(self.series)\n",
    "avg = Average()\n",
    "a1 = avg(10)\n",
    "a2 = avg(11)\n",
    "print(a1,a2)"
   ]
  },
  {
   "cell_type": "code",
   "execution_count": 38,
   "metadata": {},
   "outputs": [
    {
     "name": "stdout",
     "output_type": "stream",
     "text": [
      "10.0 10.5\n"
     ]
    },
    {
     "data": {
      "text/plain": [
       "[10, 11]"
      ]
     },
     "execution_count": 38,
     "metadata": {},
     "output_type": "execute_result"
    }
   ],
   "source": [
    "# 方法2，使用闭包\n",
    "def make_average():\n",
    "    series = []\n",
    "    def average(num):\n",
    "        series.append(num)\n",
    "        total = sum(series)\n",
    "        return total/len(series)\n",
    "    return average\n",
    "\n",
    "avg = make_average()\n",
    "b1 = avg(10)\n",
    "b2 = avg(11)\n",
    "print(b1,b2)\n",
    "\n",
    "# avg.__closure__\n",
    "avg.__closure__[0].cell_contents"
   ]
  },
  {
   "cell_type": "markdown",
   "metadata": {},
   "source": [
    "在average函数中，series是一个自由变量，指没有在本地作用于绑定的局部变量  \n",
    "闭包是一种函数__closure__，他会保留定义函数时存在的自由变量的绑定，这样在调用函数时，虽然定义的作用域不在了，但是仍然能够使用那些绑定。  \n",
    "另外，只有嵌套在其他函数内的函数才可能处理不在全局作用域中的外部变量。"
   ]
  },
  {
   "cell_type": "markdown",
   "metadata": {},
   "source": [
    "## nonlocal声明\n",
    "nonlocal的作用是把变量标记为自由变量  \n",
    "对于数字，字符串，元组等是不可变类型，只能读取，不能更新  \n",
    "如果series不是列表而是数字的话，那么如果在闭包实现series += 1，那么就会隐式创建局部变量，这样它就不是自由变量了，就实现不了闭包了。  \n",
    "global可以从嵌套的作用域开始执行，但是nonlocal所声明的变量必须已经存在，不然会报错"
   ]
  },
  {
   "cell_type": "code",
   "execution_count": 2,
   "metadata": {},
   "outputs": [],
   "source": [
    "def make_averager(): \n",
    "    count = 0 \n",
    "    total = 0 \n",
    "    def averager( new_value): \n",
    "        nonlocal count, total \n",
    "        count += 1 \n",
    "        total += new_value \n",
    "        return total/count \n",
    "    return averager"
   ]
  },
  {
   "cell_type": "markdown",
   "metadata": {},
   "source": [
    "# 实现装饰器\n",
    "## 简单的装饰器"
   ]
  },
  {
   "cell_type": "code",
   "execution_count": 4,
   "metadata": {},
   "outputs": [
    {
     "data": {
      "text/plain": [
       "'main'"
      ]
     },
     "execution_count": 4,
     "metadata": {},
     "output_type": "execute_result"
    }
   ],
   "source": [
    "# 实现输出函数的运行时间\n",
    "import time \n",
    "\n",
    "def clock(func): \n",
    "    def clocked(*args):\n",
    "        t0 = time.perf_counter() \n",
    "        # perf_counter()用来计算程序运行时间的\n",
    "        result = func(*args) \n",
    "        elapsed = time.perf_counter() - t0 \n",
    "        name = func.__name__ \n",
    "        # __name__就是用来获取字符串的函数名称\n",
    "        arg_str = ', '.join(repr(arg) for arg in args) \n",
    "        # repr返回一个对象的字符串类型\n",
    "        print('[%0.8fs]%s(%s) -> %r' % (elapsed, name, arg_str, result)) \n",
    "        return result \n",
    "    return clocked \n",
    "\n",
    "\n"
   ]
  },
  {
   "cell_type": "code",
   "execution_count": null,
   "metadata": {},
   "outputs": [],
   "source": []
  }
 ],
 "metadata": {
  "kernelspec": {
   "display_name": "Python 3",
   "language": "python",
   "name": "python3"
  },
  "language_info": {
   "codemirror_mode": {
    "name": "ipython",
    "version": 3
   },
   "file_extension": ".py",
   "mimetype": "text/x-python",
   "name": "python",
   "nbconvert_exporter": "python",
   "pygments_lexer": "ipython3",
   "version": "3.6.5"
  }
 },
 "nbformat": 4,
 "nbformat_minor": 2
}
