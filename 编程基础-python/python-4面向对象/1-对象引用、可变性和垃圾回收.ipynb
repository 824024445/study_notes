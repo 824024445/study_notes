{
 "cells": [
  {
   "cell_type": "markdown",
   "metadata": {},
   "source": [
    "# 对象引用、可变性和垃圾回收"
   ]
  },
  {
   "cell_type": "markdown",
   "metadata": {},
   "source": [
    "## 变量不是盒子\n",
    "python中的变量类似于java中的引用式变量，本质是对象的标注  \n",
    "表现出的形式就是：一个对象可以有多个变量。  \n",
    "每个变量都有标识、类型和值  \n",
    "id（）返回的是唯一的数值标注  \n",
    "is比较的是对象的标识  \n",
    "== 比较的是对象的值  \n",
    "元组的相对不可变性，不可变的只是标识，而不是值。  \n",
    "浅复制"
   ]
  },
  {
   "cell_type": "code",
   "execution_count": 8,
   "metadata": {},
   "outputs": [
    {
     "name": "stdout",
     "output_type": "stream",
     "text": [
      "1740600794928 1740600794928\n"
     ]
    }
   ],
   "source": [
    "# 一个对象可以有多个变量\n",
    "t1 = (1, 2, [30, 40])\n",
    "t2 = t1\n",
    "x = id(t1)\n",
    "y = id(t2)\n",
    "print(x,y)"
   ]
  },
  {
   "cell_type": "code",
   "execution_count": 15,
   "metadata": {},
   "outputs": [
    {
     "name": "stdout",
     "output_type": "stream",
     "text": [
      "False True\n"
     ]
    }
   ],
   "source": [
    "# 每个变量都有标识、类型和值\n",
    "# t1和t2的标识是不同的，但是值是相同的\n",
    "t1 = (1, 2, [30, 40])\n",
    "t2 = (1, 2, [30, 40])\n",
    "\n",
    "# is比较的是标识id\n",
    "x = t1 is t2\n",
    "# ==比较的是值，是语法糖，本质是调用了t1.__eq__(t2)\n",
    "y = t1 == t2\n",
    "print(x,y)"
   ]
  },
  {
   "cell_type": "code",
   "execution_count": 17,
   "metadata": {},
   "outputs": [],
   "source": [
    "# 元组的相对不可变\n",
    "# 不可变的是标识，而不是值"
   ]
  },
  {
   "cell_type": "code",
   "execution_count": 11,
   "metadata": {},
   "outputs": [
    {
     "name": "stdout",
     "output_type": "stream",
     "text": [
      "标识比较： 1740599936776 1740601313224\n",
      "容器内元素是相同的 1507683392 1507683392\n"
     ]
    },
    {
     "data": {
      "text/plain": [
       "True"
      ]
     },
     "execution_count": 11,
     "metadata": {},
     "output_type": "execute_result"
    }
   ],
   "source": [
    "# 默认做浅复制。\n",
    "# 复制的只是最外层的容器，容器内的元素是对源容器中元素的引用\n",
    "a = [1,2,4]\n",
    "b = list(a)\n",
    "x0 = id(a)\n",
    "y0 = id(b)\n",
    "x = id(a[0])\n",
    "y = id(b[0])\n",
    "print(\"标识比较：\",x0,y0)\n",
    "print(\"容器内元素是相同的\",x,y)"
   ]
  },
  {
   "cell_type": "code",
   "execution_count": null,
   "metadata": {},
   "outputs": [],
   "source": []
  }
 ],
 "metadata": {
  "kernelspec": {
   "display_name": "Python 3",
   "language": "python",
   "name": "python3"
  },
  "language_info": {
   "codemirror_mode": {
    "name": "ipython",
    "version": 3
   },
   "file_extension": ".py",
   "mimetype": "text/x-python",
   "name": "python",
   "nbconvert_exporter": "python",
   "pygments_lexer": "ipython3",
   "version": "3.6.5"
  }
 },
 "nbformat": 4,
 "nbformat_minor": 2
}
